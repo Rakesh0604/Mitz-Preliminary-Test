{
 "cells": [
  {
   "cell_type": "markdown",
   "id": "97429e02",
   "metadata": {},
   "source": [
    "# Mitz Hands-on round for DE"
   ]
  },
  {
   "cell_type": "markdown",
   "id": "78d591e9",
   "metadata": {},
   "source": [
    "## 2. Write a function that takes in a string as input and returns the most common character(s) in the string. If there is a tie for the most common character, the function should return all characters that are tied. The function should ignore spaces and should treat uppercase and lowercase letters as the same.\n",
    "\n",
    "## For example, if the input string is\n",
    "\n",
    "## Input: \"Hello world\",\n",
    "## output: \"l\".\n",
    "\n",
    "## Input: \"Mississippi\",\n",
    "## output: \"i\" , \"s\".\n"
   ]
  },
  {
   "cell_type": "code",
   "execution_count": 1,
   "id": "13dbdff2",
   "metadata": {},
   "outputs": [],
   "source": [
    "def most_common_characters(input_string):\n",
    "    # Convert the input string to lowercase and remove spaces\n",
    "    input_string = input_string.lower().replace(\" \", \"\")\n",
    "\n",
    "    # Create a dictionary to store the frequency of each character\n",
    "    char_freq = {}\n",
    "    for character in input_string:\n",
    "        if character in char_freq:\n",
    "            char_freq[character] += 1\n",
    "        else:\n",
    "            char_freq[character] = 1\n",
    "\n",
    "    # Find the highest frequency of a character in the input string\n",
    "    max_freq = max(char_freq.values())\n",
    "\n",
    "    # Create a list of all characters that have the highest frequency\n",
    "    most_common_characters = [char for char in char_freq if char_freq[char] == max_freq]\n",
    "\n",
    "    # Return the most common character(s)\n",
    "    return most_common_characters"
   ]
  },
  {
   "cell_type": "code",
   "execution_count": 2,
   "id": "b09b1f7c",
   "metadata": {},
   "outputs": [
    {
     "name": "stdout",
     "output_type": "stream",
     "text": [
      "Please enter a string: Hello\n",
      "['l']\n"
     ]
    }
   ],
   "source": [
    "input_string = input(\"Please enter a string: \")\n",
    "print(most_common_characters(input_string))"
   ]
  },
  {
   "cell_type": "code",
   "execution_count": null,
   "id": "d94b8c99",
   "metadata": {},
   "outputs": [],
   "source": []
  }
 ],
 "metadata": {
  "kernelspec": {
   "display_name": "Python 3 (ipykernel)",
   "language": "python",
   "name": "python3"
  },
  "language_info": {
   "codemirror_mode": {
    "name": "ipython",
    "version": 3
   },
   "file_extension": ".py",
   "mimetype": "text/x-python",
   "name": "python",
   "nbconvert_exporter": "python",
   "pygments_lexer": "ipython3",
   "version": "3.9.7"
  }
 },
 "nbformat": 4,
 "nbformat_minor": 5
}
